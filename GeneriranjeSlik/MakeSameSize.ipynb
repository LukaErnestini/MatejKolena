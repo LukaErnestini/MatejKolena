{
 "cells": [
  {
   "cell_type": "markdown",
   "metadata": {},
   "source": [
    "Originalne 4 slike naredimo iste velikosti."
   ]
  },
  {
   "cell_type": "code",
   "execution_count": 2,
   "metadata": {},
   "outputs": [
    {
     "name": "stdout",
     "output_type": "stream",
     "text": [
      "(749, 1117, 3)\n",
      "(745, 1115, 3)\n"
     ]
    }
   ],
   "source": [
    "import cv2 as cv\n",
    "import os\n",
    "\n",
    "def naloziSlike(mapa):\n",
    "    images = []\n",
    "    for filename in os.listdir(mapa):\n",
    "        img = cv.imread(os.path.join(mapa, filename))\n",
    "        if img is not None:\n",
    "            images.append(img)\n",
    "    return images\n",
    "\n",
    "#Nalozimo slike\n",
    "slike = naloziSlike(\"slike\")\n",
    "slike_z_legendo = naloziSlike(\"slike_z_legendo\")\n",
    "\n",
    "print (slike[0].shape)\n",
    "print (slike[1].shape)\n",
    "#Slike niso iste velikosti"
   ]
  },
  {
   "cell_type": "code",
   "execution_count": 4,
   "metadata": {},
   "outputs": [],
   "source": [
    "def remove_border(img):\n",
    "    grayscale = cv.cvtColor(img, cv.COLOR_BGR2GRAY)\n",
    "    ret, thresholded = cv.threshold(grayscale, 127, 255, cv.THRESH_BINARY_INV)\n",
    "    # cv.imwrite(\"thresholded.png\", thresholded)\n",
    "    bbox = cv.boundingRect(thresholded)\n",
    "    x, y, w, h = bbox\n",
    "    # print(bbox)\n",
    "    foreground = img[y:y+h, x:x+w]\n",
    "    # cv.imwrite(\"foreground.png\", foreground)\n",
    "    return foreground\n",
    "\n",
    "def odstrani_legendo(img):\n",
    "    # Odstrani 100px navpicni pas na desni strani, kjer je legenda.\n",
    "    return img[:,:len(img[1]) - 100]\n",
    "\n",
    "slike_no_border = []\n",
    "for slika in slike:\n",
    "    slike_no_border.append(remove_border(slika))\n",
    "\n",
    "for slika in slike_z_legendo:\n",
    "    slika = odstrani_legendo(slika)\n",
    "    slike_no_border.append(remove_border(slika))"
   ]
  },
  {
   "cell_type": "code",
   "execution_count": 6,
   "metadata": {},
   "outputs": [],
   "source": [
    "import numpy as np\n",
    "\n",
    "# Vse slike nardimo velikosti kot je prva slika\n",
    "visina = len(slike_no_border[0])\n",
    "sirina = len(slike_no_border[0][0])\n",
    "for i in range(len(slike_no_border)):\n",
    "    slike_no_border[i] = cv.resize(slike_no_border[i], (sirina, visina))\n",
    "    cv.imwrite(\"slike_uniform/slika\" + str(i) + \".png\", slike_no_border[i])\n",
    "# cv.imwrite(\"resized.png\", slike_no_border[3])"
   ]
  }
 ],
 "metadata": {
  "interpreter": {
   "hash": "34086022e3141c8dcf01385555ce5c77767507c659a84d2f5c200af6a287bb05"
  },
  "kernelspec": {
   "display_name": "Python 3.10.4 64-bit",
   "language": "python",
   "name": "python3"
  },
  "language_info": {
   "codemirror_mode": {
    "name": "ipython",
    "version": 3
   },
   "file_extension": ".py",
   "mimetype": "text/x-python",
   "name": "python",
   "nbconvert_exporter": "python",
   "pygments_lexer": "ipython3",
   "version": "3.10.4"
  },
  "orig_nbformat": 4
 },
 "nbformat": 4,
 "nbformat_minor": 2
}
