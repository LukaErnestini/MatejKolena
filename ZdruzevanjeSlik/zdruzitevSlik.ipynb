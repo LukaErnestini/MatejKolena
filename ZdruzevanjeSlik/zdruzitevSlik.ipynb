{
 "cells": [
  {
   "cell_type": "code",
   "execution_count": 34,
   "metadata": {},
   "outputs": [
    {
     "name": "stdout",
     "output_type": "stream",
     "text": [
      "(749, 1117, 3)\n",
      "(745, 1115, 3)\n"
     ]
    }
   ],
   "source": [
    "import cv2 as cv\n",
    "import os\n",
    "\n",
    "def naloziSlike(mapa):\n",
    "    images = []\n",
    "    for filename in os.listdir(mapa):\n",
    "        img = cv.imread(os.path.join(mapa, filename))\n",
    "        if img is not None:\n",
    "            images.append(img)\n",
    "    return images\n",
    "\n",
    "#Nalozimo slike\n",
    "slike = naloziSlike(\"slike\")\n",
    "slike_z_legendo = naloziSlike(\"slike_z_legendo\")\n",
    "\n",
    "print (slike[0].shape)\n",
    "print (slike[1].shape)\n",
    "#Slike niso iste velikosti"
   ]
  },
  {
   "cell_type": "markdown",
   "metadata": {},
   "source": [
    "## ZELIM OBREZAT SLIKO, DA OSTANE SAMO VLOZEK, OD ROBA DO ROBA"
   ]
  },
  {
   "cell_type": "code",
   "execution_count": 35,
   "metadata": {},
   "outputs": [],
   "source": [
    "def remove_border(img):\n",
    "    grayscale = cv.cvtColor(img, cv.COLOR_BGR2GRAY)\n",
    "    ret, thresholded = cv.threshold(grayscale, 127, 255, cv.THRESH_BINARY_INV)\n",
    "    cv.imwrite(\"thresholded.png\", thresholded)\n",
    "    bbox = cv.boundingRect(thresholded)\n",
    "    x, y, w, h = bbox\n",
    "    # print(bbox)\n",
    "    foreground = img[y:y+h, x:x+w]\n",
    "    cv.imwrite(\"foreground.png\", foreground)\n",
    "    return foreground\n",
    "\n",
    "def odstrani_legendo(img):\n",
    "    # Odstrani 100px navpicni pas na desni strani, kjer je legenda.\n",
    "    return img[:,:len(img[1]) - 100]\n",
    "\n",
    "slike_no_border = []\n",
    "for slika in slike:\n",
    "    slike_no_border.append(remove_border(slika))\n",
    "\n",
    "for slika in slike_z_legendo:\n",
    "    slika = odstrani_legendo(slika)\n",
    "    slike_no_border.append(remove_border(slika))"
   ]
  },
  {
   "cell_type": "code",
   "execution_count": 36,
   "metadata": {},
   "outputs": [
    {
     "data": {
      "text/plain": [
       "True"
      ]
     },
     "execution_count": 36,
     "metadata": {},
     "output_type": "execute_result"
    }
   ],
   "source": [
    "import numpy as np\n",
    "\n",
    "# Vse slike nardimo velikosti kot je prva slika\n",
    "visina = len(slike_no_border[0])\n",
    "sirina = len(slike_no_border[0][0])\n",
    "for i in range(len(slike_no_border)):\n",
    "    slike_no_border[i] = cv.resize(slike_no_border[i], (sirina, visina))\n",
    "cv.imwrite(\"resized.png\", slike_no_border[3])\n",
    "\n",
    "# Odstranimo modro barvo iz vseh razen prve slike\n",
    "# lowerValues = np.array([33, 27, 153])\n",
    "# upperValues = np.array([33, 27, 153])\n",
    "# cv.imwrite(\"noborder1.png\", slike_no_border[1])\n",
    "# # 53, 40, 255\n",
    "# mask = cv.inRange(slike_no_border[1], lowerValues, upperValues)\n",
    "# slike_no_blue = cv.bitwise_and(slike_no_border[1], slike_no_border[1], mask=mask)\n",
    "# cv.imwrite(\"mask.png\", mask)\n",
    "# cv.imwrite(\"noblue.png\", slike_no_blue)\n",
    "\n",
    "def blend(list_images): # Blend images equally.\n",
    "    equal_fraction = 1.0 / (len(list_images))\n",
    "    output = np.zeros_like(list_images[0])\n",
    "    for img in list_images:\n",
    "        output = output + img * equal_fraction\n",
    "    output = output.astype(np.uint8)\n",
    "    return output\n",
    "\n",
    "\n",
    "result = blend(slike_no_border)\n",
    "cv.imwrite(\"zdruzeno.png\", result)\n",
    "\n",
    "# result = cv.addWeighted(slike_no_border[0], 0.5, slike_no_border[1], 0.5, 0)\n",
    "# for i in range(len(slike_no_border)):\n",
    "#     result = cv.addWeighted(result, 0.5, slike_no_border[1], 0.5, 0)\n",
    "#     cv.imwrite(\"zdruzeno.png\", result)\n",
    "# cv.namedWindow('result',cv.WINDOW_NORMAL)#show the image on the screen\n",
    "# cv.imshow('result',result)\n",
    "# if cv.waitKey()==0:\n",
    "#     cv.destroyAllWindows()"
   ]
  }
 ],
 "metadata": {
  "interpreter": {
   "hash": "d406864f2ee78ecc67afccccd0a48c216f41ca3a0f9ca739a0b9d8b15ae422ba"
  },
  "kernelspec": {
   "display_name": "Python 3.10.4 64-bit",
   "name": "python3"
  },
  "language_info": {
   "codemirror_mode": {
    "name": "ipython",
    "version": 3
   },
   "file_extension": ".py",
   "mimetype": "text/x-python",
   "name": "python",
   "nbconvert_exporter": "python",
   "pygments_lexer": "ipython3",
   "version": "3.10.4"
  },
  "orig_nbformat": 4
 },
 "nbformat": 4,
 "nbformat_minor": 2
}
