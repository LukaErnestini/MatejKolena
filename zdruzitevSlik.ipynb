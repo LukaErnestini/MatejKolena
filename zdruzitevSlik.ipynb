{
 "cells": [
  {
   "cell_type": "code",
   "execution_count": 72,
   "metadata": {},
   "outputs": [
    {
     "name": "stdout",
     "output_type": "stream",
     "text": [
      "(753, 1215, 3)\n",
      "(753, 1227, 3)\n"
     ]
    }
   ],
   "source": [
    "import cv2 as cv\n",
    "\n",
    "#Nalozimo slike\n",
    "img1 = cv.imread(\"0_908_08052022_SLIKA OBRABE.JPG\")\n",
    "img2 = cv.imread(\"3_718_08052022_SLIKA OBRABE.JPG\")\n",
    "\n",
    "print (img1.shape)\n",
    "print (img2.shape)\n",
    "#Slike niso iste velikosti"
   ]
  },
  {
   "cell_type": "code",
   "execution_count": 73,
   "metadata": {},
   "outputs": [
    {
     "name": "stdout",
     "output_type": "stream",
     "text": [
      "(6, 10, 1096, 734)\n"
     ]
    },
    {
     "data": {
      "text/plain": [
       "True"
      ]
     },
     "execution_count": 73,
     "metadata": {},
     "output_type": "execute_result"
    }
   ],
   "source": [
    "# print(len(img1[1]))\n",
    "img1 = img1[:, :len(img1[1]) - 100]\n",
    "grayscale = cv.cvtColor(img1, cv.COLOR_BGR2GRAY)\n",
    "ret, thresholded = cv.threshold(grayscale, 100, 255, cv.THRESH_BINARY_INV)\n",
    "cv.imwrite(\"otsu.png\", thresholded)\n",
    "bbox = cv.boundingRect(thresholded)\n",
    "x, y, w, h = bbox\n",
    "print(bbox)\n",
    "foreground = img1[y:y+h, x:x+w]\n",
    "cv.imwrite(\"foreground.png\", foreground)"
   ]
  },
  {
   "cell_type": "markdown",
   "metadata": {},
   "source": [
    "## ZELIM OBREZAT SLIKO, DA OSTANE SAMO VLOZEK, OD ROBA DO ROBA\n",
    "Brisem vrstice in stolpce pikslov ob straneh slike, dokler se tej ujemajo (siva barva)"
   ]
  },
  {
   "cell_type": "code",
   "execution_count": 74,
   "metadata": {},
   "outputs": [
    {
     "name": "stdout",
     "output_type": "stream",
     "text": [
      "Neujemanje!\n",
      "[200 177 181]\n",
      "[200 177 181]\n",
      "Neujemanje!\n",
      "[200 177 181]\n",
      "[200 177 182]\n",
      "Neujemanje!\n",
      "[200 177 182]\n",
      "[199 177 182]\n",
      "Neujemanje!\n",
      "[199 177 182]\n",
      "[197 176 184]\n",
      "Neujemanje!\n",
      "[197 176 184]\n",
      "[193 177 184]\n",
      "Neujemanje!\n",
      "[204 185 194]\n",
      "[195 178 189]\n",
      "Ke kaco\n"
     ]
    }
   ],
   "source": [
    "import numpy as np\n",
    "\n",
    "# Dokler je stolpec iste barve ga brisemo\n",
    "brisi = True\n",
    "while brisi == True:\n",
    "    for vrstica in range(len(img1) - 10):\n",
    "        #Preverimo ce gre za isto barvo v celem stolpcu (v meji tolerance, ker ni ista siva barva cez cel stolpec)\n",
    "        # 10% toleranca ujemanja. Če se barva razlikuje za manj kot 10%, smatramo kot ista barva\n",
    "        if np.allclose(img1[vrstica][0], img1[vrstica + 10][0], rtol=10e-2, equal_nan=False) == False:\n",
    "            print(\"Neujemanje!\")\n",
    "            print(img1[vrstica][0])\n",
    "            print(img1[vrstica + 1][0])\n",
    "            brisi = False\n",
    "    print(\"Ke kaco\")\n",
    "    if brisi:\n",
    "        print (\"Brisanje stolpca!\")\n",
    "        print (img1.shape)\n",
    "        img1 = img1[1:,:,:]\n",
    "        print (\"after: \", img1.shape)"
   ]
  },
  {
   "cell_type": "code",
   "execution_count": 75,
   "metadata": {},
   "outputs": [
    {
     "ename": "error",
     "evalue": "OpenCV(4.5.5) D:\\a\\opencv-python\\opencv-python\\opencv\\modules\\core\\src\\arithm.cpp:650: error: (-209:Sizes of input arguments do not match) The operation is neither 'array op array' (where arrays have the same size and the same number of channels), nor 'array op scalar', nor 'scalar op array' in function 'cv::arithm_op'\n",
     "output_type": "error",
     "traceback": [
      "\u001b[1;31m---------------------------------------------------------------------------\u001b[0m",
      "\u001b[1;31merror\u001b[0m                                     Traceback (most recent call last)",
      "Input \u001b[1;32mIn [75]\u001b[0m, in \u001b[0;36m<cell line: 3>\u001b[1;34m()\u001b[0m\n\u001b[0;32m      1\u001b[0m \u001b[38;5;66;03m#so resize one image to the size of the other before adding\u001b[39;00m\n\u001b[0;32m      2\u001b[0m img2\u001b[38;5;241m=\u001b[39mcv\u001b[38;5;241m.\u001b[39mresize(img2, (\u001b[38;5;241m3000\u001b[39m,\u001b[38;5;241m4000\u001b[39m))\u001b[38;5;66;03m#add(or blend) the images\u001b[39;00m\n\u001b[1;32m----> 3\u001b[0m result \u001b[38;5;241m=\u001b[39m \u001b[43mcv\u001b[49m\u001b[38;5;241;43m.\u001b[39;49m\u001b[43maddWeighted\u001b[49m\u001b[43m(\u001b[49m\u001b[43mimg1\u001b[49m\u001b[43m,\u001b[49m\u001b[43m \u001b[49m\u001b[38;5;241;43m0.3\u001b[39;49m\u001b[43m,\u001b[49m\u001b[43m \u001b[49m\u001b[43mimg2\u001b[49m\u001b[43m,\u001b[49m\u001b[43m \u001b[49m\u001b[38;5;241;43m0.7\u001b[39;49m\u001b[43m,\u001b[49m\u001b[43m \u001b[49m\u001b[38;5;241;43m0\u001b[39;49m\u001b[43m)\u001b[49m\u001b[38;5;66;03m#create a resizable window for the image\u001b[39;00m\n\u001b[0;32m      4\u001b[0m cv\u001b[38;5;241m.\u001b[39mnamedWindow(\u001b[38;5;124m'\u001b[39m\u001b[38;5;124mresult\u001b[39m\u001b[38;5;124m'\u001b[39m,cv\u001b[38;5;241m.\u001b[39mWINDOW_NORMAL)\u001b[38;5;66;03m#show the image on the screen\u001b[39;00m\n\u001b[0;32m      5\u001b[0m cv\u001b[38;5;241m.\u001b[39mimshow(\u001b[38;5;124m'\u001b[39m\u001b[38;5;124mresult\u001b[39m\u001b[38;5;124m'\u001b[39m,result)\n",
      "\u001b[1;31merror\u001b[0m: OpenCV(4.5.5) D:\\a\\opencv-python\\opencv-python\\opencv\\modules\\core\\src\\arithm.cpp:650: error: (-209:Sizes of input arguments do not match) The operation is neither 'array op array' (where arrays have the same size and the same number of channels), nor 'array op scalar', nor 'scalar op array' in function 'cv::arithm_op'\n"
     ]
    }
   ],
   "source": [
    "#so resize one image to the size of the other before adding\n",
    "img2=cv.resize(img2, (3000,4000))#add(or blend) the images\n",
    "result = cv.addWeighted(img1, 0.3, img2, 0.7, 0)#create a resizable window for the image\n",
    "cv.namedWindow('result',cv.WINDOW_NORMAL)#show the image on the screen\n",
    "cv.imshow('result',result)\n",
    "if cv.waitKey()==0:\n",
    "    cv.destroyAllWindows()"
   ]
  }
 ],
 "metadata": {
  "interpreter": {
   "hash": "d406864f2ee78ecc67afccccd0a48c216f41ca3a0f9ca739a0b9d8b15ae422ba"
  },
  "kernelspec": {
   "display_name": "Python 3.10.4 64-bit",
   "name": "python3"
  },
  "language_info": {
   "codemirror_mode": {
    "name": "ipython",
    "version": 3
   },
   "file_extension": ".py",
   "mimetype": "text/x-python",
   "name": "python",
   "nbconvert_exporter": "python",
   "pygments_lexer": "ipython3",
   "version": "3.10.4"
  },
  "orig_nbformat": 4
 },
 "nbformat": 4,
 "nbformat_minor": 2
}
